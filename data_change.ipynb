{
 "cells": [
  {
   "cell_type": "code",
   "execution_count": 1,
   "metadata": {},
   "outputs": [],
   "source": [
    "import pandas as pd"
   ]
  },
  {
   "cell_type": "code",
   "execution_count": 30,
   "metadata": {},
   "outputs": [
    {
     "name": "stdout",
     "output_type": "stream",
     "text": [
      "11582\n"
     ]
    },
    {
     "data": {
      "text/plain": [
       "11582"
      ]
     },
     "execution_count": 30,
     "metadata": {},
     "output_type": "execute_result"
    }
   ],
   "source": [
    "read = pd.read_csv(\"C:/Users/sriva/gaip-project/model/train-rle.csv\")\n",
    "print(len(read))\n",
    "read.drop_duplicates(subset='ImageId', keep='first')\n",
    "read.head()\n",
    "len(read)"
   ]
  },
  {
   "cell_type": "code",
   "execution_count": 61,
   "metadata": {},
   "outputs": [
    {
     "name": "stdout",
     "output_type": "stream",
     "text": [
      "['1.2.276.0.7230010.3.1.4.8323329.5597.1517875188.959090']\n"
     ]
    }
   ],
   "source": [
    "import os\n",
    "folder_path = 'C:/Users/sriva/gaip-project/PNEUMOTHORAX/full_short/'\n",
    "\n",
    "# List all files in the folder\n",
    "folder_files = os.listdir(folder_path)\n",
    "read.columns\n",
    "\n",
    "#print(read[['ImageId', 'EncodedPixels']])"
   ]
  },
  {
   "cell_type": "code",
   "execution_count": 66,
   "metadata": {},
   "outputs": [
    {
     "name": "stdout",
     "output_type": "stream",
     "text": [
      "['1.2.276.0.7230010.3.1.4.8323329.13304.1517875244.575626.dcm']\n",
      "['1.2.276.0.7230010.3.1.4.8323329.13304.1517875244.575626']\n",
      "Index(['ImageId'], dtype='object') \n",
      " Index(['ImageId', 'EncodedPixels'], dtype='object')\n",
      "                                             ImageId  \\\n",
      "0  1.2.276.0.7230010.3.1.4.8323329.13304.15178752...   \n",
      "1  1.2.276.0.7230010.3.1.4.8323329.13310.15178752...   \n",
      "2  1.2.276.0.7230010.3.1.4.8323329.13318.15178752...   \n",
      "3  1.2.276.0.7230010.3.1.4.8323329.13322.15178752...   \n",
      "4  1.2.276.0.7230010.3.1.4.8323329.13330.15178752...   \n",
      "\n",
      "                                       EncodedPixels  \n",
      "0   258287 6 1015 10 1012 13 1009 16 1006 19 1004...  \n",
      "1   322927 26 984 46 970 58 960 67 953 73 947 77 ...  \n",
      "2   687364 7 1013 13 1008 18 1004 21 1002 23 999 ...  \n",
      "3   588050 7 1009 15 998 25 996 28 994 30 991 32 ...  \n",
      "4   328888 2 1021 4 1019 5 1019 5 1018 6 1018 6 1...  \n"
     ]
    }
   ],
   "source": [
    "folder_files_df = pd.DataFrame({'ImageId': folder_files})\n",
    "print(folder_files_df[['ImageId']].head(1).values[0])\n",
    "\n",
    "folder_files_df['ImageId'] = folder_files_df['ImageId'].str[:-4]\n",
    "print(folder_files_df[['ImageId']].head(1).values[0])\n",
    "folder_files_df.to_csv('C:/Users/sriva/gaip-model/pneumothorax-detection-unet/fin.csv',index=False)\n",
    "print(folder_files_df.columns,\"\\n\",read.columns)\n",
    "# Merge the larger dataset with the folder files based on the 'filename' column\n",
    "# print(read[['ImageId']].head(1).values[0])\n",
    "# print(read.head(1),folder_files_df.head(1))\n",
    "filtered_dataset_df = pd.merge(folder_files_df[['ImageId']],read[['ImageId', 'EncodedPixels']], on='ImageId')\n",
    "print(filtered_dataset_df.head())\n",
    "\n",
    "# Save the filtered dataset to a new CSV file\n",
    "filtered_dataset_csv = 'C:/Users/sriva/gaip-model/pneumothorax-detection-unet/fin.csv'\n",
    "filtered_dataset_df.to_csv(filtered_dataset_csv, index=False)"
   ]
  },
  {
   "cell_type": "code",
   "execution_count": 77,
   "metadata": {},
   "outputs": [
    {
     "data": {
      "text/plain": [
       "(1500, 2)"
      ]
     },
     "execution_count": 77,
     "metadata": {},
     "output_type": "execute_result"
    }
   ],
   "source": [
    "fildered_dataset_df = filtered_dataset_df.drop_duplicates(subset=['ImageId'],inplace=True)"
   ]
  },
  {
   "cell_type": "code",
   "execution_count": 78,
   "metadata": {},
   "outputs": [
    {
     "data": {
      "text/html": [
       "<div>\n",
       "<style scoped>\n",
       "    .dataframe tbody tr th:only-of-type {\n",
       "        vertical-align: middle;\n",
       "    }\n",
       "\n",
       "    .dataframe tbody tr th {\n",
       "        vertical-align: top;\n",
       "    }\n",
       "\n",
       "    .dataframe thead th {\n",
       "        text-align: right;\n",
       "    }\n",
       "</style>\n",
       "<table border=\"1\" class=\"dataframe\">\n",
       "  <thead>\n",
       "    <tr style=\"text-align: right;\">\n",
       "      <th></th>\n",
       "      <th>ImageId</th>\n",
       "      <th>EncodedPixels</th>\n",
       "    </tr>\n",
       "  </thead>\n",
       "  <tbody>\n",
       "    <tr>\n",
       "      <th>0</th>\n",
       "      <td>1.2.276.0.7230010.3.1.4.8323329.13304.15178752...</td>\n",
       "      <td>258287 6 1015 10 1012 13 1009 16 1006 19 1004...</td>\n",
       "    </tr>\n",
       "    <tr>\n",
       "      <th>1</th>\n",
       "      <td>1.2.276.0.7230010.3.1.4.8323329.13310.15178752...</td>\n",
       "      <td>322927 26 984 46 970 58 960 67 953 73 947 77 ...</td>\n",
       "    </tr>\n",
       "    <tr>\n",
       "      <th>2</th>\n",
       "      <td>1.2.276.0.7230010.3.1.4.8323329.13318.15178752...</td>\n",
       "      <td>687364 7 1013 13 1008 18 1004 21 1002 23 999 ...</td>\n",
       "    </tr>\n",
       "    <tr>\n",
       "      <th>3</th>\n",
       "      <td>1.2.276.0.7230010.3.1.4.8323329.13322.15178752...</td>\n",
       "      <td>588050 7 1009 15 998 25 996 28 994 30 991 32 ...</td>\n",
       "    </tr>\n",
       "    <tr>\n",
       "      <th>4</th>\n",
       "      <td>1.2.276.0.7230010.3.1.4.8323329.13330.15178752...</td>\n",
       "      <td>328888 2 1021 4 1019 5 1019 5 1018 6 1018 6 1...</td>\n",
       "    </tr>\n",
       "    <tr>\n",
       "      <th>...</th>\n",
       "      <td>...</td>\n",
       "      <td>...</td>\n",
       "    </tr>\n",
       "    <tr>\n",
       "      <th>1662</th>\n",
       "      <td>1.2.276.0.7230010.3.1.4.8323329.32759.15178751...</td>\n",
       "      <td>-1</td>\n",
       "    </tr>\n",
       "    <tr>\n",
       "      <th>1663</th>\n",
       "      <td>1.2.276.0.7230010.3.1.4.8323329.32763.15178751...</td>\n",
       "      <td>-1</td>\n",
       "    </tr>\n",
       "    <tr>\n",
       "      <th>1664</th>\n",
       "      <td>1.2.276.0.7230010.3.1.4.8323329.32764.15178751...</td>\n",
       "      <td>-1</td>\n",
       "    </tr>\n",
       "    <tr>\n",
       "      <th>1665</th>\n",
       "      <td>1.2.276.0.7230010.3.1.4.8323329.32766.15178751...</td>\n",
       "      <td>-1</td>\n",
       "    </tr>\n",
       "    <tr>\n",
       "      <th>1666</th>\n",
       "      <td>1.2.276.0.7230010.3.1.4.8323329.32767.15178751...</td>\n",
       "      <td>-1</td>\n",
       "    </tr>\n",
       "  </tbody>\n",
       "</table>\n",
       "<p>1500 rows × 2 columns</p>\n",
       "</div>"
      ],
      "text/plain": [
       "                                                ImageId  \\\n",
       "0     1.2.276.0.7230010.3.1.4.8323329.13304.15178752...   \n",
       "1     1.2.276.0.7230010.3.1.4.8323329.13310.15178752...   \n",
       "2     1.2.276.0.7230010.3.1.4.8323329.13318.15178752...   \n",
       "3     1.2.276.0.7230010.3.1.4.8323329.13322.15178752...   \n",
       "4     1.2.276.0.7230010.3.1.4.8323329.13330.15178752...   \n",
       "...                                                 ...   \n",
       "1662  1.2.276.0.7230010.3.1.4.8323329.32759.15178751...   \n",
       "1663  1.2.276.0.7230010.3.1.4.8323329.32763.15178751...   \n",
       "1664  1.2.276.0.7230010.3.1.4.8323329.32764.15178751...   \n",
       "1665  1.2.276.0.7230010.3.1.4.8323329.32766.15178751...   \n",
       "1666  1.2.276.0.7230010.3.1.4.8323329.32767.15178751...   \n",
       "\n",
       "                                          EncodedPixels  \n",
       "0      258287 6 1015 10 1012 13 1009 16 1006 19 1004...  \n",
       "1      322927 26 984 46 970 58 960 67 953 73 947 77 ...  \n",
       "2      687364 7 1013 13 1008 18 1004 21 1002 23 999 ...  \n",
       "3      588050 7 1009 15 998 25 996 28 994 30 991 32 ...  \n",
       "4      328888 2 1021 4 1019 5 1019 5 1018 6 1018 6 1...  \n",
       "...                                                 ...  \n",
       "1662                                                 -1  \n",
       "1663                                                 -1  \n",
       "1664                                                 -1  \n",
       "1665                                                 -1  \n",
       "1666                                                 -1  \n",
       "\n",
       "[1500 rows x 2 columns]"
      ]
     },
     "execution_count": 78,
     "metadata": {},
     "output_type": "execute_result"
    }
   ],
   "source": [
    "filtered_dataset_df.drop_duplicates(subset=['ImageId'])"
   ]
  },
  {
   "cell_type": "code",
   "execution_count": 68,
   "metadata": {},
   "outputs": [],
   "source": [
    "filtered_dataset_df.to_csv(filtered_dataset_csv, index=False)"
   ]
  },
  {
   "cell_type": "code",
   "execution_count": 72,
   "metadata": {},
   "outputs": [
    {
     "data": {
      "text/plain": [
       "(1667, 2)"
      ]
     },
     "execution_count": 72,
     "metadata": {},
     "output_type": "execute_result"
    }
   ],
   "source": [
    "filtered_dataset_df.shape\n"
   ]
  },
  {
   "cell_type": "code",
   "execution_count": 47,
   "metadata": {},
   "outputs": [
    {
     "name": "stdout",
     "output_type": "stream",
     "text": [
      "ImageId\n"
     ]
    }
   ],
   "source": [
    "new_df = []\n",
    "for i in read:\n",
    "    print(i)\n",
    "    break"
   ]
  },
  {
   "cell_type": "code",
   "execution_count": 49,
   "metadata": {},
   "outputs": [
    {
     "ename": "TypeError",
     "evalue": "'method' object is not iterable",
     "output_type": "error",
     "traceback": [
      "\u001b[1;31m---------------------------------------------------------------------------\u001b[0m",
      "\u001b[1;31mTypeError\u001b[0m                                 Traceback (most recent call last)",
      "Cell \u001b[1;32mIn[49], line 1\u001b[0m\n\u001b[1;32m----> 1\u001b[0m \u001b[38;5;28;43;01mfor\u001b[39;49;00m\u001b[43m \u001b[49m\u001b[43mrow\u001b[49m\u001b[43m \u001b[49m\u001b[38;5;129;43;01min\u001b[39;49;00m\u001b[43m \u001b[49m\u001b[43mread\u001b[49m\u001b[38;5;241;43m.\u001b[39;49m\u001b[43miterrows\u001b[49m\u001b[43m:\u001b[49m\n\u001b[0;32m      2\u001b[0m \u001b[43m    \u001b[49m\u001b[38;5;66;43;03m# Check if the value in the specified column is in the values_list\u001b[39;49;00m\n\u001b[0;32m      3\u001b[0m \u001b[43m    \u001b[49m\u001b[38;5;28;43;01mif\u001b[39;49;00m\u001b[43m \u001b[49m\u001b[43mrow\u001b[49m\u001b[43m[\u001b[49m\u001b[38;5;124;43m'\u001b[39;49m\u001b[38;5;124;43mImageId\u001b[39;49m\u001b[38;5;124;43m'\u001b[39;49m\u001b[43m]\u001b[49m\u001b[43m \u001b[49m\u001b[38;5;129;43;01min\u001b[39;49;00m\u001b[43m \u001b[49m\u001b[43mfolder_files\u001b[49m\u001b[43m:\u001b[49m\n\u001b[0;32m      4\u001b[0m \u001b[43m        \u001b[49m\u001b[38;5;28;43mprint\u001b[39;49m\u001b[43m(\u001b[49m\u001b[38;5;124;43mf\u001b[39;49m\u001b[38;5;124;43m\"\u001b[39;49m\u001b[38;5;124;43mFound \u001b[39;49m\u001b[38;5;132;43;01m{\u001b[39;49;00m\u001b[43mrow\u001b[49m\u001b[43m[\u001b[49m\u001b[38;5;124;43m'\u001b[39;49m\u001b[38;5;124;43mImageId\u001b[39;49m\u001b[38;5;124;43m'\u001b[39;49m\u001b[43m]\u001b[49m\u001b[38;5;132;43;01m}\u001b[39;49;00m\u001b[38;5;124;43m in the DataFrame at index \u001b[39;49m\u001b[38;5;132;43;01m{\u001b[39;49;00m\u001b[43mindex\u001b[49m\u001b[38;5;132;43;01m}\u001b[39;49;00m\u001b[38;5;124;43m\"\u001b[39;49m\u001b[43m)\u001b[49m\n",
      "\u001b[1;31mTypeError\u001b[0m: 'method' object is not iterable"
     ]
    }
   ],
   "source": [
    "for row in read.iterrows:\n",
    "    # Check if the value in the specified column is in the values_list\n",
    "    if row['ImageId'] in folder_files:\n",
    "        print(f\"Found {row['ImageId']} in the DataFrame at index {index}\")"
   ]
  },
  {
   "cell_type": "code",
   "execution_count": 46,
   "metadata": {},
   "outputs": [
    {
     "name": "stdout",
     "output_type": "stream",
     "text": [
      "Empty DataFrame\n",
      "Columns: [ImageId, EncodedPixels]\n",
      "Index: []\n"
     ]
    },
    {
     "data": {
      "text/html": [
       "<div>\n",
       "<style scoped>\n",
       "    .dataframe tbody tr th:only-of-type {\n",
       "        vertical-align: middle;\n",
       "    }\n",
       "\n",
       "    .dataframe tbody tr th {\n",
       "        vertical-align: top;\n",
       "    }\n",
       "\n",
       "    .dataframe thead th {\n",
       "        text-align: right;\n",
       "    }\n",
       "</style>\n",
       "<table border=\"1\" class=\"dataframe\">\n",
       "  <thead>\n",
       "    <tr style=\"text-align: right;\">\n",
       "      <th></th>\n",
       "      <th>ImageId</th>\n",
       "    </tr>\n",
       "  </thead>\n",
       "  <tbody>\n",
       "    <tr>\n",
       "      <th>0</th>\n",
       "      <td>1.2.276.0.7230010.3.1.4.8323329.13304.15178752...</td>\n",
       "    </tr>\n",
       "    <tr>\n",
       "      <th>1</th>\n",
       "      <td>1.2.276.0.7230010.3.1.4.8323329.13310.15178752...</td>\n",
       "    </tr>\n",
       "    <tr>\n",
       "      <th>2</th>\n",
       "      <td>1.2.276.0.7230010.3.1.4.8323329.13318.15178752...</td>\n",
       "    </tr>\n",
       "    <tr>\n",
       "      <th>3</th>\n",
       "      <td>1.2.276.0.7230010.3.1.4.8323329.13322.15178752...</td>\n",
       "    </tr>\n",
       "    <tr>\n",
       "      <th>4</th>\n",
       "      <td>1.2.276.0.7230010.3.1.4.8323329.13330.15178752...</td>\n",
       "    </tr>\n",
       "  </tbody>\n",
       "</table>\n",
       "</div>"
      ],
      "text/plain": [
       "                                             ImageId\n",
       "0  1.2.276.0.7230010.3.1.4.8323329.13304.15178752...\n",
       "1  1.2.276.0.7230010.3.1.4.8323329.13310.15178752...\n",
       "2  1.2.276.0.7230010.3.1.4.8323329.13318.15178752...\n",
       "3  1.2.276.0.7230010.3.1.4.8323329.13322.15178752...\n",
       "4  1.2.276.0.7230010.3.1.4.8323329.13330.15178752..."
      ]
     },
     "execution_count": 46,
     "metadata": {},
     "output_type": "execute_result"
    }
   ],
   "source": [
    "print(filtered_dataset_df)\n",
    "\n",
    "folder_files_df.head()"
   ]
  },
  {
   "cell_type": "code",
   "execution_count": 8,
   "metadata": {},
   "outputs": [
    {
     "name": "stdout",
     "output_type": "stream",
     "text": [
      "1.2.276.0.7230010.3.1.4.8323329.13304.1517875244.575626.dcm\n"
     ]
    }
   ],
   "source": [
    "len(folder_files)\n",
    "print(folder_files[0])"
   ]
  },
  {
   "cell_type": "code",
   "execution_count": 9,
   "metadata": {},
   "outputs": [
    {
     "name": "stdout",
     "output_type": "stream",
     "text": [
      "Empty DataFrame\n",
      "Columns: [ImageId, EncodedPixels]\n",
      "Index: []\n",
      "0        1.2.276.0.7230010.3.1.4.8323329.5597.151787518...\n",
      "1        1.2.276.0.7230010.3.1.4.8323329.12515.15178752...\n",
      "2        1.2.276.0.7230010.3.1.4.8323329.4904.151787518...\n",
      "3        1.2.276.0.7230010.3.1.4.8323329.32579.15178751...\n",
      "4        1.2.276.0.7230010.3.1.4.8323329.32579.15178751...\n",
      "                               ...                        \n",
      "11577    1.2.276.0.7230010.3.1.4.8323329.4461.151787518...\n",
      "11578    1.2.276.0.7230010.3.1.4.8323329.4461.151787518...\n",
      "11579    1.2.276.0.7230010.3.1.4.8323329.32730.15178751...\n",
      "11580    1.2.276.0.7230010.3.1.4.8323329.13252.15178752...\n",
      "11581    1.2.276.0.7230010.3.1.4.8323329.12050.15178752...\n",
      "Name: ImageId, Length: 11582, dtype: object\n"
     ]
    }
   ],
   "source": [
    "filtered_dataset_df = read[read['ImageId'].isin(folder_files)]\n",
    "print(filtered_dataset_df)\n",
    "print(read['ImageId'])"
   ]
  },
  {
   "cell_type": "code",
   "execution_count": 5,
   "metadata": {},
   "outputs": [],
   "source": [
    "filtered_dataset_df = read[read['ImageId'].isin(folder_files)]\n",
    "\n",
    "# Save the filtered dataset to a new CSV file\n",
    "filtered_dataset_csv = 'C:/Users/sriva/gaip-model/pneumothorax-detection-unet/fin.csv'\n",
    "filtered_dataset_df.to_csv(filtered_dataset_csv, index=False)"
   ]
  },
  {
   "cell_type": "code",
   "execution_count": null,
   "metadata": {},
   "outputs": [],
   "source": []
  }
 ],
 "metadata": {
  "kernelspec": {
   "display_name": "Python 3",
   "language": "python",
   "name": "python3"
  },
  "language_info": {
   "codemirror_mode": {
    "name": "ipython",
    "version": 3
   },
   "file_extension": ".py",
   "mimetype": "text/x-python",
   "name": "python",
   "nbconvert_exporter": "python",
   "pygments_lexer": "ipython3",
   "version": "3.11.7"
  }
 },
 "nbformat": 4,
 "nbformat_minor": 2
}
